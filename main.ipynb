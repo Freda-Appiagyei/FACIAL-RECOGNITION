{
 "cells": [
  {
   "cell_type": "code",
   "execution_count": 1,
   "metadata": {},
   "outputs": [],
   "source": [
    "import cv2\n",
    "import face_recognition\n",
    "import numpy as np\n",
    "\n",
    "freda=face_recognition.load_image_file('pics/IMG_11030.jpg')\n",
    "freda=cv2.cvtColor(freda,cv2.COLOR_BGR2RGB)\n",
    "\n",
    "freda_test_image=face_recognition.load_image_file('pics/freda_test.jpeg')\n",
    "freda_test_image=cv2.cvtColor(freda_test_image,cv2.COLOR_BGR2RGB)\n",
    "\n",
    "cv2.imshow(\"freda\",freda)\n",
    "cv2.imshow(\"freda test\",freda_test_image)\n",
    "cv2.waitKey(0)"
   ]
  }
 ],
 "metadata": {
  "interpreter": {
   "hash": "a2ab3825ac7005fb7b26f112e9c99ae62f464c629e30b0d534c3b931b6cbc3ff"
  },
  "kernelspec": {
   "display_name": "Python 3.9.7 ('base')",
   "language": "python",
   "name": "python3"
  },
  "language_info": {
   "codemirror_mode": {
    "name": "ipython",
    "version": 3
   },
   "file_extension": ".py",
   "mimetype": "text/x-python",
   "name": "python",
   "nbconvert_exporter": "python",
   "pygments_lexer": "ipython3",
   "version": "3.9.7"
  },
  "orig_nbformat": 4
 },
 "nbformat": 4,
 "nbformat_minor": 2
}
